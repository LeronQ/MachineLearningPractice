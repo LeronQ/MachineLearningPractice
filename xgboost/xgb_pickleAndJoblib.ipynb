{
 "cells": [
  {
   "cell_type": "markdown",
   "metadata": {},
   "source": [
    "使用pickle和joblib保存和调用模型"
   ]
  },
  {
   "cell_type": "markdown",
   "metadata": {},
   "source": [
    "# 使用pickle保存模型"
   ]
  },
  {
   "cell_type": "code",
   "execution_count": 1,
   "metadata": {
    "scrolled": true
   },
   "outputs": [
    {
     "data": {
      "text/plain": [
       "['',\n",
       " 'C:\\\\SoftDir\\\\Anaconda\\\\python36.zip',\n",
       " 'C:\\\\SoftDir\\\\Anaconda\\\\DLLs',\n",
       " 'C:\\\\SoftDir\\\\Anaconda\\\\lib',\n",
       " 'C:\\\\SoftDir\\\\Anaconda',\n",
       " 'C:\\\\SoftDir\\\\Anaconda\\\\lib\\\\site-packages',\n",
       " 'C:\\\\SoftDir\\\\Anaconda\\\\lib\\\\site-packages\\\\win32',\n",
       " 'C:\\\\SoftDir\\\\Anaconda\\\\lib\\\\site-packages\\\\win32\\\\lib',\n",
       " 'C:\\\\SoftDir\\\\Anaconda\\\\lib\\\\site-packages\\\\Pythonwin',\n",
       " 'C:\\\\SoftDir\\\\Anaconda\\\\lib\\\\site-packages\\\\IPython\\\\extensions',\n",
       " 'C:\\\\Users\\\\10189\\\\.ipython']"
      ]
     },
     "execution_count": 1,
     "metadata": {},
     "output_type": "execute_result"
    }
   ],
   "source": [
    "import xgboost as xgb\n",
    "from sklearn.ensemble import RandomForestRegressor as RFR\n",
    "from sklearn.linear_model import LinearRegression as LinearR \n",
    "from sklearn.datasets import load_boston\n",
    "from sklearn.model_selection import KFold,cross_val_score as CVS,train_test_split as TTS\n",
    "from sklearn.metrics import mean_squared_error as MSE\n",
    "import pandas as pd \n",
    "import numpy as np\n",
    "import matplotlib.pyplot as plt \n",
    "from time import time \n",
    "import datetime\n",
    "import pickle\n",
    "\n",
    "data = load_boston()\n",
    "x = data.data\n",
    "y = data.target\n",
    "\n",
    "dfull = xgb.DMatrix(x,y)\n",
    "\n",
    "param1 = {\"silent\":True\n",
    "          ,\"obj\":\"binary:linear\"\n",
    "          ,\"subsample\":1\n",
    "          ,\"max_depth\":4\n",
    "          ,\"eta\":0.05\n",
    "          ,\"lambda\":1 \n",
    "          ,\"ganmma\":20\n",
    "          ,\"alpha\":0.2\n",
    "          ,\"colsample_bytree\":0.4\n",
    "          ,\"colsample_bylevel\":0.6\n",
    "          ,\"colsample_bylevel\":1\n",
    "          ,\"nfold\":5}\n",
    "\n",
    "num_round = 200\n",
    "bst = xgb.train(param1,dfull,num_round)\n",
    "\n",
    "# 保存模型\n",
    "\n",
    "pickle.dump(bst,open(\"xgboost_boston.dat\",\"wb\"))\n",
    "\n",
    "# 注意，open中往往使用w或者r作为读取的模式，但其实w与r只能用于文本文件，当我们希望导入的不是\n",
    "# 不是文本文件而是模型本身的时候，我们使用wb或者rb作为读取的模式\n",
    "# 其中wb表示以二进制写入，rb表示以二进制读入，使用open进行保存的这个文件中是一个可以进行\n",
    "# 读取或者调用的模型\n",
    "\n",
    "import sys\n",
    "sys.path\n"
   ]
  },
  {
   "cell_type": "code",
   "execution_count": 3,
   "metadata": {},
   "outputs": [],
   "source": [
    "xtrain,xtest,ytrain,ytest = TTS(x,y,test_size =0.3,random_state = 420)"
   ]
  },
  {
   "cell_type": "code",
   "execution_count": 4,
   "metadata": {},
   "outputs": [],
   "source": [
    "dtest = xgb.DMatrix(xtest,ytest)"
   ]
  },
  {
   "cell_type": "code",
   "execution_count": 7,
   "metadata": {},
   "outputs": [
    {
     "name": "stdout",
     "output_type": "stream",
     "text": [
      "load model from：xgboost_boston.dat\n"
     ]
    }
   ],
   "source": [
    "load_model = pickle.load(open(\"xgboost_boston.dat\",\"rb\"))\n",
    "                              \n",
    "print(\"load model from：xgboost_boston.dat\")\n",
    "                              "
   ]
  },
  {
   "cell_type": "code",
   "execution_count": 9,
   "metadata": {},
   "outputs": [
    {
     "data": {
      "text/plain": [
       "1.1891462273865219"
      ]
     },
     "execution_count": 9,
     "metadata": {},
     "output_type": "execute_result"
    }
   ],
   "source": [
    "ypreds = load_model.predict(dtest)\n",
    "\n",
    "MSE(ytest,ypreds)"
   ]
  },
  {
   "cell_type": "markdown",
   "metadata": {},
   "source": [
    "# 使用joblib保存模型"
   ]
  },
  {
   "cell_type": "markdown",
   "metadata": {},
   "source": [
    "joblib是scipy生态系统中的一部分，它为python提供保存模型的功能，处理numpy结构数据非常高效，对很大的数据集和巨大的模型非常有用，"
   ]
  },
  {
   "cell_type": "code",
   "execution_count": 11,
   "metadata": {},
   "outputs": [
    {
     "data": {
      "text/plain": [
       "1.1891462273865219"
      ]
     },
     "execution_count": 11,
     "metadata": {},
     "output_type": "execute_result"
    }
   ],
   "source": [
    "bst = xgb.train(param1,dfull,num_round)\n",
    "\n",
    "import joblib\n",
    "\n",
    "joblib.dump(bst,\"xgboost_boston2.dat\")\n",
    "\n",
    "load_model2 = joblib.load(\"xgboost_boston2.dat\")\n",
    "\n",
    "ypreds2 = load_model2.predict(dtest)\n",
    "\n",
    "MSE(ytest,ypreds2)\n",
    "\n"
   ]
  },
  {
   "cell_type": "code",
   "execution_count": null,
   "metadata": {},
   "outputs": [],
   "source": []
  },
  {
   "cell_type": "code",
   "execution_count": null,
   "metadata": {},
   "outputs": [],
   "source": []
  }
 ],
 "metadata": {
  "kernelspec": {
   "display_name": "Python 3",
   "language": "python",
   "name": "python3"
  },
  "language_info": {
   "codemirror_mode": {
    "name": "ipython",
    "version": 3
   },
   "file_extension": ".py",
   "mimetype": "text/x-python",
   "name": "python",
   "nbconvert_exporter": "python",
   "pygments_lexer": "ipython3",
   "version": "3.6.5"
  },
  "toc": {
   "base_numbering": 1,
   "nav_menu": {},
   "number_sections": true,
   "sideBar": true,
   "skip_h1_title": false,
   "title_cell": "Table of Contents",
   "title_sidebar": "Contents",
   "toc_cell": false,
   "toc_position": {},
   "toc_section_display": true,
   "toc_window_display": false
  }
 },
 "nbformat": 4,
 "nbformat_minor": 2
}
