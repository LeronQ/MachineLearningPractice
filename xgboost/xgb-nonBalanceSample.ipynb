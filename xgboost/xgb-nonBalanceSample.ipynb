{
 "cells": [
  {
   "cell_type": "code",
   "execution_count": 6,
   "metadata": {},
   "outputs": [
    {
     "data": {
      "text/plain": [
       "0.09090909090909091"
      ]
     },
     "execution_count": 6,
     "metadata": {},
     "output_type": "execute_result"
    }
   ],
   "source": [
    "from xgboost import XGBRegressor as XGBR \n",
    "from xgboost import  XGBClassifier as XGBC \n",
    "from sklearn.ensemble import RandomForestRegressor as RFR\n",
    "from sklearn.linear_model import LinearRegression as LinearR \n",
    "from sklearn.datasets import load_boston\n",
    "from sklearn.model_selection import KFold,cross_val_score as CVS,train_test_split as TTS\n",
    "from sklearn.metrics import mean_squared_error as MSE\n",
    "import pandas as pd \n",
    "import numpy as np\n",
    "import matplotlib.pyplot as plt  \n",
    "from sklearn.datasets import make_blobs\n",
    "from sklearn.metrics import confusion_matrix as cm,recall_score as recall,roc_auc_score as auc\n",
    "\n",
    "\n",
    "class_1 = 500 # 类别1 有500个样本\n",
    "class_2 = 50 # 类别2 有50个样本\n",
    "\n",
    "centers = [[0.0,0.0],[2.0,2.0]]  # 设定两个类别中心\n",
    "clusters_std = [1.5,0.5] # 设定两个类别的方差，通常来说，样本量比较大的类别会比较松散\n",
    "\n",
    "x,y = make_blobs(n_samples =[class_1,class_2],centers=centers,cluster_std=clusters_std,\n",
    "                random_state =0,shuffle =False)\n",
    "\n",
    "xtrain,xtest,ytrain,ytest = TTS(x,y,test_size =0.3,random_state = 420)\n",
    "\n",
    "(y ==1).sum() /y.shape[0]\n"
   ]
  },
  {
   "cell_type": "code",
   "execution_count": 11,
   "metadata": {},
   "outputs": [
    {
     "data": {
      "text/plain": [
       "(550, 2)"
      ]
     },
     "execution_count": 11,
     "metadata": {},
     "output_type": "execute_result"
    }
   ],
   "source": [
    "x.shape"
   ]
  },
  {
   "cell_type": "code",
   "execution_count": 12,
   "metadata": {},
   "outputs": [
    {
     "data": {
      "text/plain": [
       "(550,)"
      ]
     },
     "execution_count": 12,
     "metadata": {},
     "output_type": "execute_result"
    }
   ],
   "source": [
    "y.shape"
   ]
  },
  {
   "cell_type": "code",
   "execution_count": 13,
   "metadata": {},
   "outputs": [],
   "source": [
    "clf = XGBC().fit(xtrain,ytrain)\n",
    "ypred = clf.predict(xtest)\n"
   ]
  },
  {
   "cell_type": "code",
   "execution_count": 14,
   "metadata": {
    "scrolled": true
   },
   "outputs": [
    {
     "data": {
      "text/plain": [
       "array([0, 0, 0, 0, 1, 0, 0, 0, 0, 0, 0, 0, 0, 0, 0, 0, 0, 0, 0, 0, 0, 0,\n",
       "       0, 0, 0, 0, 0, 0, 0, 0, 0, 0, 0, 0, 0, 0, 0, 0, 0, 0, 0, 0, 0, 0,\n",
       "       0, 0, 0, 0, 0, 0, 0, 0, 0, 0, 0, 0, 0, 1, 0, 0, 0, 0, 0, 0, 0, 0,\n",
       "       0, 0, 0, 0, 0, 0, 0, 0, 1, 0, 0, 1, 0, 0, 0, 0, 0, 0, 1, 0, 0, 0,\n",
       "       1, 0, 0, 0, 0, 0, 1, 0, 1, 0, 0, 0, 0, 1, 0, 0, 0, 0, 0, 0, 0, 0,\n",
       "       0, 0, 0, 1, 0, 1, 0, 0, 0, 0, 0, 0, 0, 0, 0, 0, 0, 0, 0, 0, 0, 0,\n",
       "       0, 0, 0, 0, 1, 0, 0, 0, 0, 1, 0, 0, 0, 0, 0, 0, 0, 0, 1, 0, 0, 0,\n",
       "       0, 0, 0, 0, 0, 0, 0, 0, 1, 1, 1])"
      ]
     },
     "execution_count": 14,
     "metadata": {},
     "output_type": "execute_result"
    }
   ],
   "source": [
    "ypred"
   ]
  },
  {
   "cell_type": "code",
   "execution_count": 15,
   "metadata": {},
   "outputs": [
    {
     "data": {
      "text/plain": [
       "array([[  9,   4],\n",
       "       [  8, 144]], dtype=int64)"
      ]
     },
     "execution_count": 15,
     "metadata": {},
     "output_type": "execute_result"
    }
   ],
   "source": [
    "cm(ytest,ypred,labels=[1,0])"
   ]
  },
  {
   "cell_type": "code",
   "execution_count": 16,
   "metadata": {},
   "outputs": [
    {
     "data": {
      "text/plain": [
       "0.6923076923076923"
      ]
     },
     "execution_count": 16,
     "metadata": {},
     "output_type": "execute_result"
    }
   ],
   "source": [
    "recall(ytest,ypred)"
   ]
  },
  {
   "cell_type": "code",
   "execution_count": 17,
   "metadata": {},
   "outputs": [
    {
     "data": {
      "text/plain": [
       "0.9671052631578947"
      ]
     },
     "execution_count": 17,
     "metadata": {},
     "output_type": "execute_result"
    }
   ],
   "source": [
    "auc(ytest,clf.predict_proba(xtest)[:,1])"
   ]
  },
  {
   "cell_type": "code",
   "execution_count": 18,
   "metadata": {},
   "outputs": [
    {
     "data": {
      "text/plain": [
       "0.9515151515151515"
      ]
     },
     "execution_count": 18,
     "metadata": {},
     "output_type": "execute_result"
    }
   ],
   "source": [
    "# 正负样本比例\n",
    "clf_ = XGBC(scale_pos_weight=10).fit(xtrain,ytrain)\n",
    "ypred_ = clf_.predict(xtest)\n",
    "\n",
    "clf_.score(xtest,ytest)"
   ]
  },
  {
   "cell_type": "code",
   "execution_count": null,
   "metadata": {},
   "outputs": [],
   "source": []
  },
  {
   "cell_type": "markdown",
   "metadata": {},
   "source": [
    "查看随着样本权重逐渐增加，模型的recall，auc和准确率如何变化"
   ]
  },
  {
   "cell_type": "code",
   "execution_count": 19,
   "metadata": {},
   "outputs": [
    {
     "name": "stdout",
     "output_type": "stream",
     "text": [
      "1\n",
      "\tAccuracy:0.9515151515151515\n",
      "\tRecall:1.0\n",
      "\tAUC:0.9696356275303644\n",
      "5\n",
      "\tAccuracy:0.9515151515151515\n",
      "\tRecall:1.0\n",
      "\tAUC:0.9696356275303644\n",
      "10\n",
      "\tAccuracy:0.9515151515151515\n",
      "\tRecall:1.0\n",
      "\tAUC:0.9696356275303644\n",
      "20\n",
      "\tAccuracy:0.9515151515151515\n",
      "\tRecall:1.0\n",
      "\tAUC:0.9696356275303644\n",
      "30\n",
      "\tAccuracy:0.9515151515151515\n",
      "\tRecall:1.0\n",
      "\tAUC:0.9696356275303644\n"
     ]
    }
   ],
   "source": [
    "for i in [1,5,10,20,30]:\n",
    "    clf = XGBC(scale_pos_weight=i).fit(xtrain,ytrain)\n",
    "    ypred_ = clf_.predict(xtest)\n",
    "    print(i)\n",
    "    print(\"\\tAccuracy:{}\".format(clf_.score(xtest,ytest)))\n",
    "    print(\"\\tRecall:{}\".format(recall(ytest,ypred_)))\n",
    "    print(\"\\tAUC:{}\".format(auc(ytest,clf_.predict_proba(xtest)[:,1])))"
   ]
  },
  {
   "cell_type": "markdown",
   "metadata": {},
   "source": [
    "# 使用xgboots本身自带的库"
   ]
  },
  {
   "cell_type": "code",
   "execution_count": 21,
   "metadata": {},
   "outputs": [],
   "source": [
    "import xgboost as xgb \n",
    "\n",
    "dtrain = xgb.DMatrix(xtrain,ytrain)\n",
    "dtest = xgb.DMatrix(xtest,ytest)"
   ]
  },
  {
   "cell_type": "code",
   "execution_count": 23,
   "metadata": {},
   "outputs": [],
   "source": [
    "param = {\"silent\":True\n",
    "          ,\"obj\":\"binary:logistic\"\n",
    "          ,\"eta\":0.1\n",
    "          ,\"scale_pos_weight\":1}\n",
    "\n",
    "num_round = 100"
   ]
  },
  {
   "cell_type": "code",
   "execution_count": 25,
   "metadata": {},
   "outputs": [],
   "source": [
    "bst = xgb.train(param,dtrain,num_round)\n",
    "\n",
    "preds = bst.predict(dtest)"
   ]
  },
  {
   "cell_type": "code",
   "execution_count": 26,
   "metadata": {},
   "outputs": [
    {
     "data": {
      "text/plain": [
       "array([-2.1195412e-04,  2.8303564e-03, -2.1195412e-04, -2.1195412e-04,\n",
       "        6.1283749e-01,  3.2312274e-03, -2.1195412e-04, -2.1195412e-04,\n",
       "       -2.1195412e-04, -2.1195412e-04, -2.1195412e-04,  2.6429296e-03,\n",
       "        1.5855670e-02,  6.5388292e-02,  2.5006831e-03, -2.1195412e-04,\n",
       "       -2.1195412e-04, -2.1195412e-04, -2.1195412e-04, -2.1195412e-04,\n",
       "       -2.1195412e-04, -2.1195412e-04, -2.1195412e-04, -2.1195412e-04,\n",
       "       -2.1195412e-04,  6.3392520e-04, -2.1195412e-04, -2.1195412e-04,\n",
       "       -2.1195412e-04, -2.1195412e-04, -2.1195412e-04, -2.1195412e-04,\n",
       "       -2.1195412e-04,  1.7589629e-03,  1.1099279e-03, -2.1195412e-04,\n",
       "       -7.3075294e-03, -2.9118598e-02, -2.1195412e-04,  3.2312274e-03,\n",
       "       -1.0898113e-03, -9.6875429e-03, -2.1195412e-04, -2.1195412e-04,\n",
       "       -2.1195412e-04,  1.3885796e-03,  1.0616183e-03, -2.1195412e-04,\n",
       "        8.5341930e-04,  1.1099279e-03, -2.1195412e-04, -2.1195412e-04,\n",
       "        1.6975701e-03, -2.1195412e-04, -2.1195412e-04, -2.1195412e-04,\n",
       "       -2.1195412e-04,  3.8163668e-01, -2.1195412e-04, -6.3955784e-04,\n",
       "       -2.1195412e-04,  4.0537745e-02,  4.3752789e-04, -2.1195412e-04,\n",
       "       -2.1195412e-04, -2.1195412e-04, -2.1195412e-04,  4.2125106e-02,\n",
       "        3.7811100e-03, -2.1195412e-04,  3.5098791e-03, -2.1195412e-04,\n",
       "       -2.1195412e-04, -2.1195412e-04,  9.7458386e-01, -2.1195412e-04,\n",
       "       -2.1195412e-04,  9.5410722e-01, -3.5275221e-03,  1.0516286e-02,\n",
       "        2.8303564e-03,  1.3885796e-03, -3.4359515e-02, -2.1195412e-04,\n",
       "        6.1283749e-01, -2.1195412e-04, -2.1195412e-04, -2.1195412e-04,\n",
       "        9.8086953e-01,  4.2125106e-02, -2.1195412e-04,  1.2975866e-01,\n",
       "       -2.1195412e-04, -2.1195412e-04,  9.3627119e-01, -2.1195412e-04,\n",
       "        8.2708728e-01, -2.1195412e-04, -2.1195412e-04, -2.1195412e-04,\n",
       "       -2.1195412e-04,  8.3849072e-01, -2.1195412e-04, -1.0898113e-03,\n",
       "        4.6387637e-01, -2.1195412e-04, -2.1195412e-04, -2.1195412e-04,\n",
       "       -2.1195412e-04,  3.2312274e-03, -2.1195412e-04, -2.1195412e-04,\n",
       "       -2.1195412e-04,  9.5198596e-01, -2.1195412e-04,  9.8395884e-01,\n",
       "       -9.6875429e-03,  6.3392520e-04, -2.1195412e-04,  2.2884011e-03,\n",
       "       -2.1195412e-04, -2.1195412e-04, -1.0898113e-03, -2.1195412e-04,\n",
       "       -2.1195412e-04,  1.6275048e-03, -2.1195412e-04, -2.1195412e-04,\n",
       "       -6.3598156e-05, -2.1195412e-04,  7.0517808e-01, -2.1195412e-04,\n",
       "       -2.1195412e-04, -2.1195412e-04, -2.1195412e-04, -2.1195412e-04,\n",
       "        9.5095623e-01,  3.2843262e-02, -2.1195412e-04,  1.4160693e-02,\n",
       "       -2.9118598e-02,  9.8199111e-01,  3.5098791e-03, -2.1195412e-04,\n",
       "        2.2884011e-03,  3.3599436e-03, -2.1195412e-04, -2.1195412e-04,\n",
       "        2.1186173e-03,  2.2884011e-03,  1.0073124e+00, -2.1195412e-04,\n",
       "        7.3749721e-03, -2.1195412e-04, -1.0898113e-03, -2.1195412e-04,\n",
       "       -2.1195412e-04, -2.1195412e-04, -2.1195412e-04,  1.1099279e-03,\n",
       "       -2.1195412e-04, -2.1195412e-04,  9.8197424e-01,  7.4686909e-01,\n",
       "        9.3590730e-01], dtype=float32)"
      ]
     },
     "execution_count": 26,
     "metadata": {},
     "output_type": "execute_result"
    }
   ],
   "source": [
    "# 看看preds 返回了什么\n",
    "preds "
   ]
  },
  {
   "cell_type": "code",
   "execution_count": 27,
   "metadata": {},
   "outputs": [],
   "source": [
    "# 自己设定的阈值\n",
    "\n",
    "ypred = preds.copy()\n",
    "ypred[preds>0.5] =1 \n",
    "ypred[ypred !=1] =0 "
   ]
  },
  {
   "cell_type": "code",
   "execution_count": 31,
   "metadata": {},
   "outputs": [],
   "source": [
    "# 写明参数\n",
    "\n",
    "scale_pos_weight = [1,5,10]\n",
    "names = [\"negative vs positive: 1\",\"negative vs positive:5\",\"negative vs positive :10\"]"
   ]
  },
  {
   "cell_type": "code",
   "execution_count": 34,
   "metadata": {},
   "outputs": [
    {
     "name": "stdout",
     "output_type": "stream",
     "text": [
      "negative vs positive: 1\n",
      "\tAccuracy:0.9272727272727272\n",
      "\tRecall:0.6923076923076923\n",
      "\tAUC:0.9731781376518218\n",
      "negative vs positive:5\n",
      "\tAccuracy:0.9272727272727272\n",
      "\tRecall:0.6923076923076923\n",
      "\tAUC:0.9731781376518218\n",
      "negative vs positive :10\n",
      "\tAccuracy:0.9272727272727272\n",
      "\tRecall:0.6923076923076923\n",
      "\tAUC:0.9731781376518218\n"
     ]
    }
   ],
   "source": [
    "# 导入模型评估指标\n",
    "from sklearn.metrics import accuracy_score as accuracy,recall_score as recall,roc_auc_score as auc\n",
    "\n",
    "for name,i in zip(names,scale_pos_weight):\n",
    "    param = {\"silent\":True\n",
    "          ,\"obj\":\"binary:logistic\"\n",
    "          ,\"eta\":0.1\n",
    "          ,\"scale_pos_weight\":i}\n",
    "    num_round = 100\n",
    "    clf = xgb.train(param,dtrain,num_round)\n",
    "    ypreds = clf.predict(dtest)\n",
    "    ypred = preds.copy()\n",
    "    ypred[preds>0.5] =1 \n",
    "    ypred[ypred !=1] =0 \n",
    "    print(name)\n",
    "    print(\"\\tAccuracy:{}\".format(accuracy(ytest,ypred)))\n",
    "    print(\"\\tRecall:{}\".format(recall(ytest,ypred)))\n",
    "    print(\"\\tAUC:{}\".format(auc(ytest,preds)))\n",
    "    "
   ]
  },
  {
   "cell_type": "code",
   "execution_count": null,
   "metadata": {},
   "outputs": [],
   "source": []
  }
 ],
 "metadata": {
  "kernelspec": {
   "display_name": "Python 3",
   "language": "python",
   "name": "python3"
  },
  "language_info": {
   "codemirror_mode": {
    "name": "ipython",
    "version": 3
   },
   "file_extension": ".py",
   "mimetype": "text/x-python",
   "name": "python",
   "nbconvert_exporter": "python",
   "pygments_lexer": "ipython3",
   "version": "3.6.5"
  },
  "toc": {
   "base_numbering": 1,
   "nav_menu": {},
   "number_sections": true,
   "sideBar": true,
   "skip_h1_title": false,
   "title_cell": "Table of Contents",
   "title_sidebar": "Contents",
   "toc_cell": false,
   "toc_position": {},
   "toc_section_display": true,
   "toc_window_display": false
  }
 },
 "nbformat": 4,
 "nbformat_minor": 2
}
